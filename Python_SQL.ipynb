{
 "cells": [
  {
   "cell_type": "code",
   "execution_count": 6,
   "id": "911c9f29",
   "metadata": {},
   "outputs": [
    {
     "name": "stdout",
     "output_type": "stream",
     "text": [
      "Collecting pandasql\n",
      "  Downloading pandasql-0.7.3.tar.gz (26 kB)\n",
      "  Preparing metadata (setup.py) ... \u001b[?25ldone\n",
      "\u001b[?25hRequirement already satisfied: numpy in ./anaconda3/lib/python3.11/site-packages (from pandasql) (1.24.3)\n",
      "Requirement already satisfied: pandas in ./anaconda3/lib/python3.11/site-packages (from pandasql) (2.0.3)\n",
      "Requirement already satisfied: sqlalchemy in ./anaconda3/lib/python3.11/site-packages (from pandasql) (1.4.39)\n",
      "Requirement already satisfied: python-dateutil>=2.8.2 in ./anaconda3/lib/python3.11/site-packages (from pandas->pandasql) (2.8.2)\n",
      "Requirement already satisfied: pytz>=2020.1 in ./anaconda3/lib/python3.11/site-packages (from pandas->pandasql) (2023.3.post1)\n",
      "Requirement already satisfied: tzdata>=2022.1 in ./anaconda3/lib/python3.11/site-packages (from pandas->pandasql) (2023.3)\n",
      "Requirement already satisfied: greenlet!=0.4.17 in ./anaconda3/lib/python3.11/site-packages (from sqlalchemy->pandasql) (2.0.1)\n",
      "Requirement already satisfied: six>=1.5 in ./anaconda3/lib/python3.11/site-packages (from python-dateutil>=2.8.2->pandas->pandasql) (1.16.0)\n",
      "Building wheels for collected packages: pandasql\n",
      "  Building wheel for pandasql (setup.py) ... \u001b[?25ldone\n",
      "\u001b[?25h  Created wheel for pandasql: filename=pandasql-0.7.3-py3-none-any.whl size=26772 sha256=2027b1aef79c7b465fc88144ca4f0034010583cafb5e5e492cf179f2b4e37946\n",
      "  Stored in directory: /home/cateama/.cache/pip/wheels/68/5d/a5/edc271b998f909801d7956959f699b976cc9896075dc47c153\n",
      "Successfully built pandasql\n",
      "Installing collected packages: pandasql\n",
      "Successfully installed pandasql-0.7.3\n",
      "Note: you may need to restart the kernel to use updated packages.\n"
     ]
    }
   ],
   "source": [
    "pip install pandasql"
   ]
  },
  {
   "cell_type": "code",
   "execution_count": 7,
   "id": "b846c5d0",
   "metadata": {},
   "outputs": [],
   "source": [
    "import seaborn as sns\n",
    "import pandas as pd\n",
    "from pandasql import sqldf\n",
    "\n",
    "# Carregar dataset \"tips\"\n",
    "df = sns.load_dataset(\"tips\")\n",
    "pysqldf = lambda q: sqldf(q, globals())"
   ]
  },
  {
   "cell_type": "markdown",
   "id": "77b72efc",
   "metadata": {},
   "source": [
    "Quais são as 5 primeiras linhas da tabela?\n",
    "(Mostre um exemplo de como consultar os dados)\n",
    "\n",
    "Quantos registros existem na base de dados?\n",
    "(Conte a quantidade total de linhas da tabela)\n",
    "\n",
    "Quais são os dias da semana disponíveis na base?\n",
    "(Liste os dias únicos da coluna day)\n",
    "\n",
    "Quais são os diferentes sexos dos clientes registrados?\n",
    "(Liste os valores únicos da coluna sex)"
   ]
  },
  {
   "cell_type": "code",
   "execution_count": 8,
   "id": "5843d822",
   "metadata": {},
   "outputs": [
    {
     "name": "stdout",
     "output_type": "stream",
     "text": [
      "   total_bill   tip     sex smoker  day    time  size\n",
      "0       16.99  1.01  Female     No  Sun  Dinner     2\n",
      "1       10.34  1.66    Male     No  Sun  Dinner     3\n",
      "2       21.01  3.50    Male     No  Sun  Dinner     3\n",
      "3       23.68  3.31    Male     No  Sun  Dinner     2\n",
      "4       24.59  3.61  Female     No  Sun  Dinner     4\n"
     ]
    }
   ],
   "source": [
    "query = \"SELECT * FROM df LIMIT 5;\"\n",
    "resultado = pysqldf(query)\n",
    "print(resultado)"
   ]
  },
  {
   "cell_type": "code",
   "execution_count": 11,
   "id": "fc931216",
   "metadata": {},
   "outputs": [
    {
     "name": "stdout",
     "output_type": "stream",
     "text": [
      "Total de registros na base: 244\n"
     ]
    }
   ],
   "source": [
    "query = \"SELECT COUNT(*) as Total FROM df;\"\n",
    "resultado = pysqldf(query)\n",
    "print(f\"Total de registros na base: {resultado.iloc[0, 0]}\")"
   ]
  },
  {
   "cell_type": "code",
   "execution_count": 23,
   "id": "e30411d2",
   "metadata": {},
   "outputs": [
    {
     "name": "stdout",
     "output_type": "stream",
     "text": [
      "Dias da semana na base: Domingo, Sábado, Quinta-Feira, Sexta-Feira\n"
     ]
    }
   ],
   "source": [
    "query = \"SELECT DISTINCT day FROM df;\"\n",
    "resultado = pysqldf(query)\n",
    "dias_traduzidos = {\n",
    "    \"Sun\": \"Domingo\",\n",
    "    \"Sat\": \"Sábado\",\n",
    "    \"Thur\": \"Quinta-Feira\",\n",
    "    \"Fri\": \"Sexta-Feira\"\n",
    "}\n",
    "dias = [dias_traduzidos[d] for d in resultado[\"day\"]]\n",
    "\n",
    "print(f\"Dias da semana na base: {', '.join(dias)}\")"
   ]
  },
  {
   "cell_type": "code",
   "execution_count": 16,
   "id": "878a1f34",
   "metadata": {},
   "outputs": [
    {
     "name": "stdout",
     "output_type": "stream",
     "text": [
      "Diferentes sexos na base: Female, Male\n"
     ]
    }
   ],
   "source": [
    "query = \"SELECT DISTINCT sex FROM df;\"\n",
    "resultado = pysqldf(query)\n",
    "sexos = resultado[\"sex\"].tolist()\n",
    "print(f\"Diferentes sexos na base: {', '.join(sexos)}\")"
   ]
  },
  {
   "cell_type": "markdown",
   "id": "85fe5855",
   "metadata": {},
   "source": [
    "🔹 Perguntas Intermediárias\n",
    "\n",
    "Qual é o valor médio das gorjetas (tip) para cada dia da semana?\n",
    "\n",
    "Quem dá mais gorjetas em média: homens ou mulheres? (Agrupe os dados por sex e calcule a média de tip)\n",
    "\n",
    "Qual o valor médio da conta (total_bill) para fumantes e não fumantes? (Agrupe os dados por smoker e calcule a média de total_bill)"
   ]
  },
  {
   "cell_type": "code",
   "execution_count": 31,
   "id": "52162321",
   "metadata": {},
   "outputs": [
    {
     "name": "stdout",
     "output_type": "stream",
     "text": [
      "Week_day  Avg_Tips\n",
      "     Fri  2.734737\n",
      "     Sat  2.993103\n",
      "     Sun  3.255132\n",
      "    Thur  2.771452\n"
     ]
    }
   ],
   "source": [
    "query = \"SELECT day AS Week_day, AVG(tip) AS Avg_Tips FROM df GROUP BY day\"\n",
    "resultado = pysqldf(query)\n",
    "print(resultado.to_string(index=False))"
   ]
  },
  {
   "cell_type": "code",
   "execution_count": null,
   "id": "e6807088",
   "metadata": {},
   "outputs": [],
   "source": [
    "query = \"SELECT day AS Week_day, AVG(tip) AS Avg_Tips FROM df GROUP BY day\"\n",
    "resultado = pysqldf(query)\n",
    "print(resultado.to_string(index=False))"
   ]
  },
  {
   "cell_type": "markdown",
   "id": "78ae1ae1",
   "metadata": {},
   "source": [
    "🔹 Perguntas Avançadas\n",
    "O tamanho do grupo (size) influencia na gorjeta?\n",
    "(Calcule a média de gorjetas para diferentes tamanhos de grupo)\n",
    "\n",
    "O percentual da gorjeta muda dependendo do dia da semana?\n",
    "(Crie uma coluna calculada tip_percent = tip / total_bill * 100 e analise por day)\n",
    "\n",
    "Se você fosse recomendar um dia ideal para garçons trabalharem, qual seria?\n",
    "(Analise os dias com maior média de gorjetas ou percentual de gorjetas)"
   ]
  }
 ],
 "metadata": {
  "kernelspec": {
   "display_name": "Python 3 (ipykernel)",
   "language": "python",
   "name": "python3"
  },
  "language_info": {
   "codemirror_mode": {
    "name": "ipython",
    "version": 3
   },
   "file_extension": ".py",
   "mimetype": "text/x-python",
   "name": "python",
   "nbconvert_exporter": "python",
   "pygments_lexer": "ipython3",
   "version": "3.11.5"
  }
 },
 "nbformat": 4,
 "nbformat_minor": 5
}
